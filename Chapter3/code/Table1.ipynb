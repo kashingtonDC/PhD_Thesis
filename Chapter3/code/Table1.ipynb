{
 "cells": [
  {
   "cell_type": "code",
   "execution_count": 1,
   "id": "5b979f77",
   "metadata": {},
   "outputs": [
    {
     "name": "stderr",
     "output_type": "stream",
     "text": [
      "/Users/aakashahamed/anaconda3/envs/rsenv/lib/python3.8/site-packages/numba/core/decorators.py:255: RuntimeWarning: nopython is set for njit and is ignored\n",
      "  warnings.warn('nopython is set for njit and is ignored', RuntimeWarning)\n"
     ]
    }
   ],
   "source": [
    "import os\n",
    "import datetime\n",
    "import numpy as np\n",
    "import pandas as pd\n",
    "import seaborn as sns\n",
    "import rasterio as rio\n",
    "import geopandas as gp\n",
    "\n",
    "import fiona \n",
    "import rasterio\n",
    "import rasterio.mask\n",
    "\n",
    "import cartopy.crs as ccrs\n",
    "import cartopy.io.img_tiles as cimgt\n",
    "\n",
    "import matplotlib\n",
    "import matplotlib.pyplot as plt\n",
    "import matplotlib.ticker as mticker\n",
    "import matplotlib.patches as mpatches\n",
    "import matplotlib.dates as mdates\n",
    "\n",
    "from matplotlib.lines import Line2D\n",
    "from matplotlib.ticker import StrMethodFormatter\n",
    "from mpl_toolkits.axes_grid1 import make_axes_locatable\n",
    "from tqdm import tqdm\n",
    "from PyIF import te_compute as te\n",
    "from sklearn import metrics\n",
    "\n",
    "from osgeo import gdal, osr, ogr\n",
    "from tqdm import tqdm\n",
    "from scipy import stats, spatial, signal, fftpack\n",
    "from scipy.optimize import curve_fit\n"
   ]
  },
  {
   "cell_type": "code",
   "execution_count": 2,
   "id": "cdd71966",
   "metadata": {},
   "outputs": [],
   "source": [
    "gdf = gp.read_file(\"../shape/sierra_catchments.shp\")"
   ]
  },
  {
   "cell_type": "code",
   "execution_count": 3,
   "id": "3c8f3236",
   "metadata": {},
   "outputs": [],
   "source": [
    "\n",
    "def get_fnf(stn_id):\n",
    "    '''\n",
    "    Query CA DWR website to get reservoir storage for an area of interest\n",
    "    '''\n",
    "    print(\"**** Fetching FNF for {} ****\".format(stn_id))\n",
    "\n",
    "    url = \"https://cdec.water.ca.gov/dynamicapp/req/CSVDataServlet?Stations={}&SensorNums=8&dur_code=D&Start=2000-09-01&End=2021-09-01\".format(stn_id)\n",
    "    df = pd.read_csv(url)\n",
    "\n",
    "    df[stid] = pd.to_numeric(df['VALUE'], errors='coerce').interpolate(how = 'linear') * 0.0283168 # cfs --> cms \n",
    "    df.index = pd.to_datetime(df['DATE TIME'])\n",
    "    df.index.names = ['date']\n",
    "    df.drop(['STATION_ID', \"VALUE\", \"DURATION\", \"SENSOR_NUMBER\", \n",
    "             \"SENSOR_TYPE\", \"OBS DATE\",'DATE TIME', \"DATA_FLAG\", \"UNITS\"], axis = 1, inplace = True)\n",
    "\n",
    "    df[df[stid] < 0] = np.nan\n",
    "    return df#.interpolate(how = 'polynomial', order = 3)"
   ]
  },
  {
   "cell_type": "code",
   "execution_count": null,
   "id": "94094dc4",
   "metadata": {},
   "outputs": [],
   "source": []
  },
  {
   "cell_type": "code",
   "execution_count": 4,
   "id": "0440ce0a",
   "metadata": {
    "scrolled": false
   },
   "outputs": [
    {
     "name": "stdout",
     "output_type": "stream",
     "text": [
      "**** Fetching FNF for SJF ****\n"
     ]
    },
    {
     "name": "stderr",
     "output_type": "stream",
     "text": [
      "<ipython-input-4-8731f3a81f3b>:47: RuntimeWarning: invalid value encountered in log\n",
      "  return np.log(a*x**b)\n"
     ]
    },
    {
     "name": "stdout",
     "output_type": "stream",
     "text": [
      "Parameters: a=0.05927495454128906,  b=0.9667269994646366, K = 29.05439797763877\n"
     ]
    },
    {
     "name": "stderr",
     "output_type": "stream",
     "text": [
      "<ipython-input-4-8731f3a81f3b>:94: RuntimeWarning: Mean of empty slice\n",
      "  smlt_mean = [np.nanmean(smlt[:,:,x]) for x in range(0,smlt.shape[2])]\n"
     ]
    },
    {
     "name": "stdout",
     "output_type": "stream",
     "text": [
      "**** Fetching FNF for TLG ****\n"
     ]
    },
    {
     "name": "stderr",
     "output_type": "stream",
     "text": [
      "<ipython-input-4-8731f3a81f3b>:47: RuntimeWarning: invalid value encountered in log\n",
      "  return np.log(a*x**b)\n"
     ]
    },
    {
     "name": "stdout",
     "output_type": "stream",
     "text": [
      "Parameters: a=0.019203474260056617,  b=0.8535282876592459, K = 5.827256840376007\n"
     ]
    },
    {
     "name": "stderr",
     "output_type": "stream",
     "text": [
      "<ipython-input-4-8731f3a81f3b>:94: RuntimeWarning: Mean of empty slice\n",
      "  smlt_mean = [np.nanmean(smlt[:,:,x]) for x in range(0,smlt.shape[2])]\n"
     ]
    },
    {
     "name": "stdout",
     "output_type": "stream",
     "text": [
      "**** Fetching FNF for ISB ****\n"
     ]
    },
    {
     "name": "stderr",
     "output_type": "stream",
     "text": [
      "<ipython-input-4-8731f3a81f3b>:47: RuntimeWarning: invalid value encountered in log\n",
      "  return np.log(a*x**b)\n"
     ]
    },
    {
     "name": "stdout",
     "output_type": "stream",
     "text": [
      "Parameters: a=0.1713701208699434,  b=1.091821702708813, K = 11.890671491588662\n"
     ]
    },
    {
     "name": "stderr",
     "output_type": "stream",
     "text": [
      "<ipython-input-4-8731f3a81f3b>:94: RuntimeWarning: Mean of empty slice\n",
      "  smlt_mean = [np.nanmean(smlt[:,:,x]) for x in range(0,smlt.shape[2])]\n"
     ]
    },
    {
     "name": "stdout",
     "output_type": "stream",
     "text": [
      "**** Fetching FNF for NAT ****\n"
     ]
    },
    {
     "name": "stderr",
     "output_type": "stream",
     "text": [
      "<ipython-input-4-8731f3a81f3b>:47: RuntimeWarning: invalid value encountered in log\n",
      "  return np.log(a*x**b)\n"
     ]
    },
    {
     "name": "stdout",
     "output_type": "stream",
     "text": [
      "Parameters: a=0.02000207053150833,  b=0.8521909063570433, K = 5.76548360695297\n"
     ]
    },
    {
     "name": "stderr",
     "output_type": "stream",
     "text": [
      "<ipython-input-4-8731f3a81f3b>:94: RuntimeWarning: Mean of empty slice\n",
      "  smlt_mean = [np.nanmean(smlt[:,:,x]) for x in range(0,smlt.shape[2])]\n"
     ]
    },
    {
     "name": "stdout",
     "output_type": "stream",
     "text": [
      "**** Fetching FNF for MHB ****\n"
     ]
    },
    {
     "name": "stderr",
     "output_type": "stream",
     "text": [
      "<ipython-input-4-8731f3a81f3b>:47: RuntimeWarning: invalid value encountered in log\n",
      "  return np.log(a*x**b)\n"
     ]
    },
    {
     "name": "stdout",
     "output_type": "stream",
     "text": [
      "Parameters: a=0.06418880277483988,  b=1.0075699429136231, K = 133.10139249536044\n"
     ]
    },
    {
     "name": "stderr",
     "output_type": "stream",
     "text": [
      "<ipython-input-4-8731f3a81f3b>:94: RuntimeWarning: Mean of empty slice\n",
      "  smlt_mean = [np.nanmean(smlt[:,:,x]) for x in range(0,smlt.shape[2])]\n"
     ]
    },
    {
     "name": "stdout",
     "output_type": "stream",
     "text": [
      "**** Fetching FNF for NML ****\n"
     ]
    },
    {
     "name": "stderr",
     "output_type": "stream",
     "text": [
      "<ipython-input-4-8731f3a81f3b>:47: RuntimeWarning: invalid value encountered in log\n",
      "  return np.log(a*x**b)\n"
     ]
    },
    {
     "name": "stdout",
     "output_type": "stream",
     "text": [
      "Parameters: a=0.010248730208586208,  b=0.8133713309184407, K = 4.358233571086478\n"
     ]
    },
    {
     "name": "stderr",
     "output_type": "stream",
     "text": [
      "<ipython-input-4-8731f3a81f3b>:94: RuntimeWarning: Mean of empty slice\n",
      "  smlt_mean = [np.nanmean(smlt[:,:,x]) for x in range(0,smlt.shape[2])]\n"
     ]
    },
    {
     "name": "stdout",
     "output_type": "stream",
     "text": [
      "**** Fetching FNF for ORO ****\n"
     ]
    },
    {
     "name": "stderr",
     "output_type": "stream",
     "text": [
      "<ipython-input-4-8731f3a81f3b>:47: RuntimeWarning: invalid value encountered in log\n",
      "  return np.log(a*x**b)\n"
     ]
    },
    {
     "name": "stdout",
     "output_type": "stream",
     "text": [
      "Parameters: a=0.17446989933153273,  b=1.0705841729411858, K = 15.167482005254197\n"
     ]
    },
    {
     "name": "stderr",
     "output_type": "stream",
     "text": [
      "<ipython-input-4-8731f3a81f3b>:94: RuntimeWarning: Mean of empty slice\n",
      "  smlt_mean = [np.nanmean(smlt[:,:,x]) for x in range(0,smlt.shape[2])]\n"
     ]
    },
    {
     "name": "stdout",
     "output_type": "stream",
     "text": [
      "**** Fetching FNF for TRM ****\n"
     ]
    },
    {
     "name": "stderr",
     "output_type": "stream",
     "text": [
      "<ipython-input-4-8731f3a81f3b>:47: RuntimeWarning: invalid value encountered in log\n",
      "  return np.log(a*x**b)\n"
     ]
    },
    {
     "name": "stdout",
     "output_type": "stream",
     "text": [
      "Parameters: a=0.05192327456810178,  b=0.9849764026848156, K = 65.56195443878774\n"
     ]
    },
    {
     "name": "stderr",
     "output_type": "stream",
     "text": [
      "<ipython-input-4-8731f3a81f3b>:94: RuntimeWarning: Mean of empty slice\n",
      "  smlt_mean = [np.nanmean(smlt[:,:,x]) for x in range(0,smlt.shape[2])]\n"
     ]
    },
    {
     "name": "stdout",
     "output_type": "stream",
     "text": [
      "**** Fetching FNF for MKM ****\n"
     ]
    },
    {
     "name": "stderr",
     "output_type": "stream",
     "text": [
      "<ipython-input-4-8731f3a81f3b>:47: RuntimeWarning: invalid value encountered in log\n",
      "  return np.log(a*x**b)\n"
     ]
    },
    {
     "name": "stdout",
     "output_type": "stream",
     "text": [
      "Parameters: a=0.0018044935996417164,  b=0.623454327842581, K = 1.6557203387055244\n"
     ]
    },
    {
     "name": "stderr",
     "output_type": "stream",
     "text": [
      "<ipython-input-4-8731f3a81f3b>:94: RuntimeWarning: Mean of empty slice\n",
      "  smlt_mean = [np.nanmean(smlt[:,:,x]) for x in range(0,smlt.shape[2])]\n"
     ]
    },
    {
     "name": "stdout",
     "output_type": "stream",
     "text": [
      "**** Fetching FNF for SCC ****\n"
     ]
    },
    {
     "name": "stderr",
     "output_type": "stream",
     "text": [
      "<ipython-input-4-8731f3a81f3b>:47: RuntimeWarning: invalid value encountered in log\n",
      "  return np.log(a*x**b)\n"
     ]
    },
    {
     "name": "stdout",
     "output_type": "stream",
     "text": [
      "Parameters: a=0.0006456717888567018,  b=0.6292051781018896, K = 1.6969092903751146\n"
     ]
    },
    {
     "name": "stderr",
     "output_type": "stream",
     "text": [
      "<ipython-input-4-8731f3a81f3b>:94: RuntimeWarning: Mean of empty slice\n",
      "  smlt_mean = [np.nanmean(smlt[:,:,x]) for x in range(0,smlt.shape[2])]\n"
     ]
    },
    {
     "name": "stdout",
     "output_type": "stream",
     "text": [
      "**** Fetching FNF for PNF ****\n"
     ]
    },
    {
     "name": "stderr",
     "output_type": "stream",
     "text": [
      "<ipython-input-4-8731f3a81f3b>:47: RuntimeWarning: invalid value encountered in log\n",
      "  return np.log(a*x**b)\n"
     ]
    },
    {
     "name": "stdout",
     "output_type": "stream",
     "text": [
      "Parameters: a=0.0319275661581527,  b=0.935278232355743, K = 14.450752295525943\n"
     ]
    },
    {
     "name": "stderr",
     "output_type": "stream",
     "text": [
      "<ipython-input-4-8731f3a81f3b>:94: RuntimeWarning: Mean of empty slice\n",
      "  smlt_mean = [np.nanmean(smlt[:,:,x]) for x in range(0,smlt.shape[2])]\n"
     ]
    },
    {
     "name": "stdout",
     "output_type": "stream",
     "text": [
      "**** Fetching FNF for EXC ****\n"
     ]
    },
    {
     "name": "stderr",
     "output_type": "stream",
     "text": [
      "<ipython-input-4-8731f3a81f3b>:47: RuntimeWarning: invalid value encountered in log\n",
      "  return np.log(a*x**b)\n"
     ]
    },
    {
     "name": "stdout",
     "output_type": "stream",
     "text": [
      "Parameters: a=0.12343174961202968,  b=1.0254103595116102, K = 40.354028011413696\n"
     ]
    },
    {
     "name": "stderr",
     "output_type": "stream",
     "text": [
      "<ipython-input-4-8731f3a81f3b>:94: RuntimeWarning: Mean of empty slice\n",
      "  smlt_mean = [np.nanmean(smlt[:,:,x]) for x in range(0,smlt.shape[2])]\n"
     ]
    },
    {
     "name": "stdout",
     "output_type": "stream",
     "text": [
      "**** Fetching FNF for NHG ****\n"
     ]
    },
    {
     "name": "stderr",
     "output_type": "stream",
     "text": [
      "<ipython-input-4-8731f3a81f3b>:47: RuntimeWarning: invalid value encountered in log\n",
      "  return np.log(a*x**b)\n"
     ]
    },
    {
     "name": "stdout",
     "output_type": "stream",
     "text": [
      "Parameters: a=0.005129282339738822,  b=0.7255475457564994, K = 2.6436183555231634\n"
     ]
    },
    {
     "name": "stderr",
     "output_type": "stream",
     "text": [
      "<ipython-input-4-8731f3a81f3b>:94: RuntimeWarning: Mean of empty slice\n",
      "  smlt_mean = [np.nanmean(smlt[:,:,x]) for x in range(0,smlt.shape[2])]\n"
     ]
    },
    {
     "name": "stdout",
     "output_type": "stream",
     "text": [
      "**** Fetching FNF for YRS ****\n"
     ]
    },
    {
     "name": "stderr",
     "output_type": "stream",
     "text": [
      "<ipython-input-4-8731f3a81f3b>:47: RuntimeWarning: invalid value encountered in log\n",
      "  return np.log(a*x**b)\n"
     ]
    },
    {
     "name": "stdout",
     "output_type": "stream",
     "text": [
      "Parameters: a=0.06933687826651265,  b=0.9884795883858348, K = 85.80245406947338\n"
     ]
    },
    {
     "name": "stderr",
     "output_type": "stream",
     "text": [
      "<ipython-input-4-8731f3a81f3b>:94: RuntimeWarning: Mean of empty slice\n",
      "  smlt_mean = [np.nanmean(smlt[:,:,x]) for x in range(0,smlt.shape[2])]\n"
     ]
    },
    {
     "name": "stdout",
     "output_type": "stream",
     "text": [
      "**** Fetching FNF for SHA ****\n",
      "Parameters: a=227.03899491415518,  b=1.7208093974027086, K = 2.3873293045336235\n"
     ]
    },
    {
     "name": "stderr",
     "output_type": "stream",
     "text": [
      "<ipython-input-4-8731f3a81f3b>:94: RuntimeWarning: Mean of empty slice\n",
      "  smlt_mean = [np.nanmean(smlt[:,:,x]) for x in range(0,smlt.shape[2])]\n"
     ]
    }
   ],
   "source": [
    "# Set up outlists \n",
    "results_df = []\n",
    "param_df = []\n",
    "summary_df = []\n",
    "\n",
    "# Loop through catchments \n",
    "for stid in list(gdf['stid'])[:]:\n",
    "        \n",
    "    # get area\n",
    "    akm2 = float(gdf[gdf['stid'] == stid].area_km2)\n",
    "    fnf_df = get_fnf(stid)\n",
    "\n",
    "    hdf = fnf_df.copy()\n",
    "\n",
    "    hdf.columns = ['y']\n",
    "    hdf['y'] = hdf['y'] / float(akm2) * 1e-9 * 1e6 #\n",
    "    hdf['dy'] = hdf['y'].diff()\n",
    "\n",
    "    hdf = hdf.dropna()\n",
    "\n",
    "    # Drop rows with increasing baseflow \n",
    "    droprows = []\n",
    "    for idx, row in hdf.reset_index().iterrows():\n",
    "        if row['dy'] > 0:\n",
    "            droprows.append([idx + x for x in list(range(-1,3))])\n",
    "\n",
    "    drs = [item for sublist in droprows for item in sublist]\n",
    "    drs = [x for x in drs if x>=0 and x <len(hdf)]\n",
    "\n",
    "    odf = hdf.reset_index().drop(hdf.reset_index().index[drs]).set_index(['date'])\n",
    "\n",
    "    # Remove vvv small values \n",
    "    odf = odf[(np.abs(odf) > 1e-10).all(axis=1)]\n",
    "\n",
    "    # Remove outliers \n",
    "    odf = odf[(np.abs(stats.zscore(odf['y'])) < 3)]\n",
    "\n",
    "    # keep only summer \n",
    "    odf['midx'] = odf.index.month\n",
    "    odf[odf['midx'].isin([6,7,8,9,])]\n",
    "\n",
    "    odf.dropna(inplace = True)\n",
    "    x = odf['y'].values\n",
    "    y = odf['dy'].abs().values\n",
    "\n",
    "    def f(x, a, b):\n",
    "        return np.log(a*x**b)\n",
    "\n",
    "    popt,pcov=curve_fit(f, x, np.log(y))\n",
    "    \n",
    "    temp_df = pd.DataFrame([x,y]).T\n",
    "    temp_df.columns = ['y','dy']\n",
    "    temp_df['id'] = [stid for x in range(len(temp_df))]\n",
    "    results_df.append(temp_df)\n",
    "    \n",
    "    a, b = popt\n",
    "    print(\"Parameters: a={},  b={}, K = {}\".format(a,b, abs(b/(1-b))))\n",
    "    \n",
    "    #parameter form curve_fit\n",
    "    py=a*x**b\n",
    "    \n",
    "    # Read rainfall and snowmelt data\n",
    "    smlt_fn_1d = \"../data/Watersheds/{}_smlt.npy\".format(stid)\n",
    "    prcp_fn_1d = \"../data/Watersheds/1d/{}_1d_prcp.npy\".format(stid)\n",
    "    et_fn_1d = \"../data/Watersheds/et/{}_et.npy\".format(stid)\n",
    "    \n",
    "    # Read runoff\n",
    "    bf = pd.read_csv(\"../data/baseflow_sep/baseflow_mm.csv\")\n",
    "    bf['date'] = pd.to_datetime(bf['date'])\n",
    "    bf.set_index(\"date\", inplace = True)    \n",
    "    sr = pd.read_csv(\"../data/baseflow_sep/surface_runoff_mm.csv\") \n",
    "    sr['date'] = pd.to_datetime(sr['date'])\n",
    "    sr.set_index(\"date\", inplace = True)   \n",
    "\n",
    "    # Load files as np arrays\n",
    "    smlt = np.load(smlt_fn_1d)\n",
    "    smlt = smlt*24 # apply scaling factor \n",
    "    prcp = np.load(prcp_fn_1d)\n",
    "#     et_all = np.load(et_fn_1d)\n",
    "\n",
    "    # filter the runoff data to select watershed\n",
    "    sr_df = pd.DataFrame(sr[stid].interpolate(how = 'linear'))[:-1] / float(akm2) * 1e-9 * 1e6 * 0.0283168\n",
    "    bf_df = pd.DataFrame(bf[stid].interpolate(how = 'linear'))[:-1] / float(akm2) * 1e-9 * 1e6 * 0.0283168\n",
    "\n",
    "    # filter the et data to coincide with snodas data \n",
    "#     et_idx = pd.date_range(\"2001-01-01\",'2021-12-31')\n",
    "#     diff_start = bf_df.index[0] - et_idx[0]\n",
    "#     ndays_start = diff_start.days\n",
    "#     diff_end = bf_df.index[-1] - et_idx[-1]\n",
    "#     ndays_end = diff_end.days\n",
    "#     et = et_all[:,:,ndays_start:ndays_end]\n",
    "#     et = np.where(et==9.999,np.nan, et) # mask nodata vals \n",
    "    \n",
    "    smlt_mean = [np.nanmean(smlt[:,:,x]) for x in range(0,smlt.shape[2])]\n",
    "    prcp_mean = [np.nanmean(prcp[:,:,x]) for x in range(0,prcp.shape[2])]\n",
    "#     et_mean = [np.nanmean(et[:,:,x]) for x in range(0,et.shape[2])]\n",
    "\n",
    "    ann_pmean = np.nanmean(prcp_mean) * 365\n",
    "    ann_smean = np.nanmean(smlt_mean) * 365\n",
    "    ann_bf_mean = float((bf_df.mean().values * 86400)) * 365\n",
    "    \n",
    "    pdf = pd.DataFrame([stid, ann_pmean, ann_smean, ann_bf_mean, abs(b/(1-b))]).T\n",
    "    pdf.columns = ['id', 'Rainfall (mm)' , 'Snowmelt (mm)', \"Baseflow (mm)\", \"K\"]\n",
    "    param_df.append(pdf)\n"
   ]
  },
  {
   "cell_type": "code",
   "execution_count": 5,
   "id": "7df5e4c4",
   "metadata": {},
   "outputs": [
    {
     "data": {
      "text/html": [
       "<div>\n",
       "<style scoped>\n",
       "    .dataframe tbody tr th:only-of-type {\n",
       "        vertical-align: middle;\n",
       "    }\n",
       "\n",
       "    .dataframe tbody tr th {\n",
       "        vertical-align: top;\n",
       "    }\n",
       "\n",
       "    .dataframe thead th {\n",
       "        text-align: right;\n",
       "    }\n",
       "</style>\n",
       "<table border=\"1\" class=\"dataframe\">\n",
       "  <thead>\n",
       "    <tr style=\"text-align: right;\">\n",
       "      <th></th>\n",
       "      <th>id</th>\n",
       "      <th>Rainfall (mm)</th>\n",
       "      <th>Snowmelt (mm)</th>\n",
       "      <th>Baseflow (mm)</th>\n",
       "      <th>K</th>\n",
       "    </tr>\n",
       "  </thead>\n",
       "  <tbody>\n",
       "    <tr>\n",
       "      <th>0</th>\n",
       "      <td>SJF</td>\n",
       "      <td>542.444552</td>\n",
       "      <td>70.142832</td>\n",
       "      <td>206.225574</td>\n",
       "      <td>29.054398</td>\n",
       "    </tr>\n",
       "    <tr>\n",
       "      <th>0</th>\n",
       "      <td>TLG</td>\n",
       "      <td>537.434952</td>\n",
       "      <td>91.369415</td>\n",
       "      <td>215.431409</td>\n",
       "      <td>5.827257</td>\n",
       "    </tr>\n",
       "    <tr>\n",
       "      <th>0</th>\n",
       "      <td>ISB</td>\n",
       "      <td>294.7725</td>\n",
       "      <td>60.778152</td>\n",
       "      <td>80.320773</td>\n",
       "      <td>11.890671</td>\n",
       "    </tr>\n",
       "    <tr>\n",
       "      <th>0</th>\n",
       "      <td>NAT</td>\n",
       "      <td>394.488417</td>\n",
       "      <td>89.736513</td>\n",
       "      <td>252.820745</td>\n",
       "      <td>5.765484</td>\n",
       "    </tr>\n",
       "    <tr>\n",
       "      <th>0</th>\n",
       "      <td>MHB</td>\n",
       "      <td>170.043693</td>\n",
       "      <td>73.546216</td>\n",
       "      <td>117.550204</td>\n",
       "      <td>133.101392</td>\n",
       "    </tr>\n",
       "    <tr>\n",
       "      <th>0</th>\n",
       "      <td>NML</td>\n",
       "      <td>560.171487</td>\n",
       "      <td>91.134414</td>\n",
       "      <td>192.056863</td>\n",
       "      <td>4.358234</td>\n",
       "    </tr>\n",
       "    <tr>\n",
       "      <th>0</th>\n",
       "      <td>ORO</td>\n",
       "      <td>340.638435</td>\n",
       "      <td>74.0447</td>\n",
       "      <td>221.460364</td>\n",
       "      <td>15.167482</td>\n",
       "    </tr>\n",
       "    <tr>\n",
       "      <th>0</th>\n",
       "      <td>TRM</td>\n",
       "      <td>363.959396</td>\n",
       "      <td>63.842251</td>\n",
       "      <td>159.401784</td>\n",
       "      <td>65.561954</td>\n",
       "    </tr>\n",
       "    <tr>\n",
       "      <th>0</th>\n",
       "      <td>MKM</td>\n",
       "      <td>508.605363</td>\n",
       "      <td>80.156724</td>\n",
       "      <td>239.486352</td>\n",
       "      <td>1.65572</td>\n",
       "    </tr>\n",
       "    <tr>\n",
       "      <th>0</th>\n",
       "      <td>SCC</td>\n",
       "      <td>132.863159</td>\n",
       "      <td>58.318631</td>\n",
       "      <td>65.638448</td>\n",
       "      <td>1.696909</td>\n",
       "    </tr>\n",
       "    <tr>\n",
       "      <th>0</th>\n",
       "      <td>PNF</td>\n",
       "      <td>588.999741</td>\n",
       "      <td>67.151824</td>\n",
       "      <td>218.843445</td>\n",
       "      <td>14.450752</td>\n",
       "    </tr>\n",
       "    <tr>\n",
       "      <th>0</th>\n",
       "      <td>EXC</td>\n",
       "      <td>462.435548</td>\n",
       "      <td>76.744455</td>\n",
       "      <td>173.50075</td>\n",
       "      <td>40.354028</td>\n",
       "    </tr>\n",
       "    <tr>\n",
       "      <th>0</th>\n",
       "      <td>NHG</td>\n",
       "      <td>24.151311</td>\n",
       "      <td>66.854566</td>\n",
       "      <td>39.85352</td>\n",
       "      <td>2.643618</td>\n",
       "    </tr>\n",
       "    <tr>\n",
       "      <th>0</th>\n",
       "      <td>YRS</td>\n",
       "      <td>475.141757</td>\n",
       "      <td>94.508007</td>\n",
       "      <td>341.251403</td>\n",
       "      <td>85.802454</td>\n",
       "    </tr>\n",
       "    <tr>\n",
       "      <th>0</th>\n",
       "      <td>SHA</td>\n",
       "      <td>230.418488</td>\n",
       "      <td>72.101108</td>\n",
       "      <td>152.018774</td>\n",
       "      <td>2.387329</td>\n",
       "    </tr>\n",
       "  </tbody>\n",
       "</table>\n",
       "</div>"
      ],
      "text/plain": [
       "    id Rainfall (mm) Snowmelt (mm) Baseflow (mm)           K\n",
       "0  SJF    542.444552     70.142832    206.225574   29.054398\n",
       "0  TLG    537.434952     91.369415    215.431409    5.827257\n",
       "0  ISB      294.7725     60.778152     80.320773   11.890671\n",
       "0  NAT    394.488417     89.736513    252.820745    5.765484\n",
       "0  MHB    170.043693     73.546216    117.550204  133.101392\n",
       "0  NML    560.171487     91.134414    192.056863    4.358234\n",
       "0  ORO    340.638435       74.0447    221.460364   15.167482\n",
       "0  TRM    363.959396     63.842251    159.401784   65.561954\n",
       "0  MKM    508.605363     80.156724    239.486352     1.65572\n",
       "0  SCC    132.863159     58.318631     65.638448    1.696909\n",
       "0  PNF    588.999741     67.151824    218.843445   14.450752\n",
       "0  EXC    462.435548     76.744455     173.50075   40.354028\n",
       "0  NHG     24.151311     66.854566      39.85352    2.643618\n",
       "0  YRS    475.141757     94.508007    341.251403   85.802454\n",
       "0  SHA    230.418488     72.101108    152.018774    2.387329"
      ]
     },
     "execution_count": 5,
     "metadata": {},
     "output_type": "execute_result"
    }
   ],
   "source": [
    "pd.concat(param_df)"
   ]
  },
  {
   "cell_type": "code",
   "execution_count": 6,
   "id": "e425eec9",
   "metadata": {},
   "outputs": [],
   "source": [
    "t1df = pd.merge(gdf,pd.concat(param_df), left_on = 'stid', right_on = 'id')"
   ]
  },
  {
   "cell_type": "code",
   "execution_count": 7,
   "id": "f7c11d18",
   "metadata": {},
   "outputs": [],
   "source": [
    "t1df['K'] = np.ceil(t1df['K'])"
   ]
  },
  {
   "cell_type": "code",
   "execution_count": 8,
   "id": "50dd3c92",
   "metadata": {},
   "outputs": [
    {
     "data": {
      "text/html": [
       "<div>\n",
       "<style scoped>\n",
       "    .dataframe tbody tr th:only-of-type {\n",
       "        vertical-align: middle;\n",
       "    }\n",
       "\n",
       "    .dataframe tbody tr th {\n",
       "        vertical-align: top;\n",
       "    }\n",
       "\n",
       "    .dataframe thead th {\n",
       "        text-align: right;\n",
       "    }\n",
       "</style>\n",
       "<table border=\"1\" class=\"dataframe\">\n",
       "  <thead>\n",
       "    <tr style=\"text-align: right;\">\n",
       "      <th></th>\n",
       "      <th>outlet_id</th>\n",
       "      <th>area_km2</th>\n",
       "      <th>catch_name</th>\n",
       "      <th>stid</th>\n",
       "      <th>elev_ft</th>\n",
       "      <th>agency</th>\n",
       "      <th>geometry</th>\n",
       "      <th>id</th>\n",
       "      <th>Rainfall (mm)</th>\n",
       "      <th>Snowmelt (mm)</th>\n",
       "      <th>Baseflow (mm)</th>\n",
       "      <th>K</th>\n",
       "    </tr>\n",
       "  </thead>\n",
       "  <tbody>\n",
       "    <tr>\n",
       "      <th>0</th>\n",
       "      <td>SAN JOAQUIN RIVER BELOW FRIANT</td>\n",
       "      <td>5122.5534</td>\n",
       "      <td>SAN JOAQUIN R</td>\n",
       "      <td>SJF</td>\n",
       "      <td>294</td>\n",
       "      <td>US Geological Survey</td>\n",
       "      <td>POLYGON ((-119.17083 37.73750, -119.17000 37.7...</td>\n",
       "      <td>SJF</td>\n",
       "      <td>542.444552</td>\n",
       "      <td>70.142832</td>\n",
       "      <td>206.225574</td>\n",
       "      <td>30</td>\n",
       "    </tr>\n",
       "    <tr>\n",
       "      <th>1</th>\n",
       "      <td>TUOLUMNE R-LA GRANGE DAM</td>\n",
       "      <td>4722.4053</td>\n",
       "      <td>TUOLUMNE R</td>\n",
       "      <td>TLG</td>\n",
       "      <td>170</td>\n",
       "      <td>Turlock Irrigation District</td>\n",
       "      <td>POLYGON ((-119.65583 38.22833, -119.64917 38.2...</td>\n",
       "      <td>TLG</td>\n",
       "      <td>537.434952</td>\n",
       "      <td>91.369415</td>\n",
       "      <td>215.431409</td>\n",
       "      <td>6</td>\n",
       "    </tr>\n",
       "    <tr>\n",
       "      <th>2</th>\n",
       "      <td>ISABELLA DAM</td>\n",
       "      <td>6226.9722</td>\n",
       "      <td>KERN R</td>\n",
       "      <td>ISB</td>\n",
       "      <td>2635</td>\n",
       "      <td>US Army Corps of Engineers</td>\n",
       "      <td>POLYGON ((-118.40750 36.70083, -118.40500 36.7...</td>\n",
       "      <td>ISB</td>\n",
       "      <td>294.7725</td>\n",
       "      <td>60.778152</td>\n",
       "      <td>80.320773</td>\n",
       "      <td>12</td>\n",
       "    </tr>\n",
       "    <tr>\n",
       "      <th>3</th>\n",
       "      <td>LAKE NATOMA  (NIMBUS DAM)</td>\n",
       "      <td>5838.2694</td>\n",
       "      <td>AMERICAN R</td>\n",
       "      <td>NAT</td>\n",
       "      <td>132</td>\n",
       "      <td>US Bureau of Reclamation</td>\n",
       "      <td>POLYGON ((-120.60083 39.32083, -120.59833 39.3...</td>\n",
       "      <td>NAT</td>\n",
       "      <td>394.488417</td>\n",
       "      <td>89.736513</td>\n",
       "      <td>252.820745</td>\n",
       "      <td>6</td>\n",
       "    </tr>\n",
       "    <tr>\n",
       "      <th>4</th>\n",
       "      <td>COSUMNES RIVER AT MICHIGAN BAR</td>\n",
       "      <td>1672.7634</td>\n",
       "      <td>COSUMNES R</td>\n",
       "      <td>MHB</td>\n",
       "      <td>168</td>\n",
       "      <td>US Geological Survey</td>\n",
       "      <td>POLYGON ((-120.55417 38.75750, -120.55167 38.7...</td>\n",
       "      <td>MHB</td>\n",
       "      <td>170.043693</td>\n",
       "      <td>73.546216</td>\n",
       "      <td>117.550204</td>\n",
       "      <td>134</td>\n",
       "    </tr>\n",
       "    <tr>\n",
       "      <th>5</th>\n",
       "      <td>NEW MELONES RESERVOIR</td>\n",
       "      <td>2801.7900</td>\n",
       "      <td>STANISLAUS R</td>\n",
       "      <td>NML</td>\n",
       "      <td>1135</td>\n",
       "      <td>US Bureau of Reclamation</td>\n",
       "      <td>POLYGON ((-119.92417 38.52000, -119.92167 38.5...</td>\n",
       "      <td>NML</td>\n",
       "      <td>560.171487</td>\n",
       "      <td>91.134414</td>\n",
       "      <td>192.056863</td>\n",
       "      <td>5</td>\n",
       "    </tr>\n",
       "    <tr>\n",
       "      <th>6</th>\n",
       "      <td>OROVILLE DAM</td>\n",
       "      <td>11475.1485</td>\n",
       "      <td>FEATHER R</td>\n",
       "      <td>ORO</td>\n",
       "      <td>900</td>\n",
       "      <td>CA Dept of Water Resources/O&amp;M Oroville Field ...</td>\n",
       "      <td>POLYGON ((-121.22667 40.50083, -121.22333 40.5...</td>\n",
       "      <td>ORO</td>\n",
       "      <td>340.638435</td>\n",
       "      <td>74.0447</td>\n",
       "      <td>221.460364</td>\n",
       "      <td>16</td>\n",
       "    </tr>\n",
       "    <tr>\n",
       "      <th>7</th>\n",
       "      <td>TERMINUS DAM</td>\n",
       "      <td>1701.7128</td>\n",
       "      <td>KAWEAH R</td>\n",
       "      <td>TRM</td>\n",
       "      <td>752</td>\n",
       "      <td>US Army Corps of Engineers</td>\n",
       "      <td>POLYGON ((-118.93333 36.72667, -118.93167 36.7...</td>\n",
       "      <td>TRM</td>\n",
       "      <td>363.959396</td>\n",
       "      <td>63.842251</td>\n",
       "      <td>159.401784</td>\n",
       "      <td>66</td>\n",
       "    </tr>\n",
       "    <tr>\n",
       "      <th>8</th>\n",
       "      <td>MOKELUMNE-MOKELUMNE HILL</td>\n",
       "      <td>1688.1372</td>\n",
       "      <td>MOKELUMNE R</td>\n",
       "      <td>MKM</td>\n",
       "      <td>575</td>\n",
       "      <td>East Bay Municipal Utility District</td>\n",
       "      <td>POLYGON ((-120.01583 38.66583, -120.01500 38.6...</td>\n",
       "      <td>MKM</td>\n",
       "      <td>508.605363</td>\n",
       "      <td>80.156724</td>\n",
       "      <td>239.486352</td>\n",
       "      <td>2</td>\n",
       "    </tr>\n",
       "    <tr>\n",
       "      <th>9</th>\n",
       "      <td>SUCCESS DAM</td>\n",
       "      <td>1182.0492</td>\n",
       "      <td>TULE R</td>\n",
       "      <td>SCC</td>\n",
       "      <td>692</td>\n",
       "      <td>US Army Corps of Engineers</td>\n",
       "      <td>POLYGON ((-118.68083 36.33417, -118.67833 36.3...</td>\n",
       "      <td>SCC</td>\n",
       "      <td>132.863159</td>\n",
       "      <td>58.318631</td>\n",
       "      <td>65.638448</td>\n",
       "      <td>2</td>\n",
       "    </tr>\n",
       "    <tr>\n",
       "      <th>10</th>\n",
       "      <td>PINE FLAT DAM</td>\n",
       "      <td>4702.9572</td>\n",
       "      <td>KINGS R</td>\n",
       "      <td>PNF</td>\n",
       "      <td>970</td>\n",
       "      <td>US Army Corps of Engineers</td>\n",
       "      <td>POLYGON ((-118.90000 37.20917, -118.89667 37.2...</td>\n",
       "      <td>PNF</td>\n",
       "      <td>588.999741</td>\n",
       "      <td>67.151824</td>\n",
       "      <td>218.843445</td>\n",
       "      <td>15</td>\n",
       "    </tr>\n",
       "    <tr>\n",
       "      <th>11</th>\n",
       "      <td>NEW EXCHEQUER-LK MCCLURE</td>\n",
       "      <td>3215.7486</td>\n",
       "      <td>MERCED R</td>\n",
       "      <td>EXC</td>\n",
       "      <td>879</td>\n",
       "      <td>Merced Irrigation District</td>\n",
       "      <td>POLYGON ((-119.53750 37.90333, -119.53667 37.9...</td>\n",
       "      <td>EXC</td>\n",
       "      <td>462.435548</td>\n",
       "      <td>76.744455</td>\n",
       "      <td>173.50075</td>\n",
       "      <td>41</td>\n",
       "    </tr>\n",
       "    <tr>\n",
       "      <th>12</th>\n",
       "      <td>NEW HOGAN LAKE</td>\n",
       "      <td>1125.6570</td>\n",
       "      <td>CALAVERAS R</td>\n",
       "      <td>NHG</td>\n",
       "      <td>554</td>\n",
       "      <td>US Army Corps of Engineers</td>\n",
       "      <td>POLYGON ((-120.58583 38.35667, -120.58333 38.3...</td>\n",
       "      <td>NHG</td>\n",
       "      <td>24.151311</td>\n",
       "      <td>66.854566</td>\n",
       "      <td>39.85352</td>\n",
       "      <td>3</td>\n",
       "    </tr>\n",
       "    <tr>\n",
       "      <th>13</th>\n",
       "      <td>YUBA RIVER NEAR SMARTVILLE</td>\n",
       "      <td>3499.5807</td>\n",
       "      <td>YUBA R</td>\n",
       "      <td>YRS</td>\n",
       "      <td>280</td>\n",
       "      <td>Pacific Gas &amp; Electric</td>\n",
       "      <td>POLYGON ((-120.87333 39.77667, -120.87000 39.7...</td>\n",
       "      <td>YRS</td>\n",
       "      <td>475.141757</td>\n",
       "      <td>94.508007</td>\n",
       "      <td>341.251403</td>\n",
       "      <td>86</td>\n",
       "    </tr>\n",
       "    <tr>\n",
       "      <th>14</th>\n",
       "      <td>SHASTA DAM  (USBR)</td>\n",
       "      <td>24146.0433</td>\n",
       "      <td>SACRAMENTO R</td>\n",
       "      <td>SHA</td>\n",
       "      <td>1067</td>\n",
       "      <td>US Bureau of Reclamation</td>\n",
       "      <td>POLYGON ((-120.46667 42.42833, -120.46333 42.4...</td>\n",
       "      <td>SHA</td>\n",
       "      <td>230.418488</td>\n",
       "      <td>72.101108</td>\n",
       "      <td>152.018774</td>\n",
       "      <td>3</td>\n",
       "    </tr>\n",
       "  </tbody>\n",
       "</table>\n",
       "</div>"
      ],
      "text/plain": [
       "                         outlet_id    area_km2     catch_name stid  elev_ft  \\\n",
       "0   SAN JOAQUIN RIVER BELOW FRIANT   5122.5534  SAN JOAQUIN R  SJF      294   \n",
       "1         TUOLUMNE R-LA GRANGE DAM   4722.4053     TUOLUMNE R  TLG      170   \n",
       "2                     ISABELLA DAM   6226.9722         KERN R  ISB     2635   \n",
       "3        LAKE NATOMA  (NIMBUS DAM)   5838.2694     AMERICAN R  NAT      132   \n",
       "4   COSUMNES RIVER AT MICHIGAN BAR   1672.7634     COSUMNES R  MHB      168   \n",
       "5            NEW MELONES RESERVOIR   2801.7900   STANISLAUS R  NML     1135   \n",
       "6                     OROVILLE DAM  11475.1485      FEATHER R  ORO      900   \n",
       "7                     TERMINUS DAM   1701.7128       KAWEAH R  TRM      752   \n",
       "8         MOKELUMNE-MOKELUMNE HILL   1688.1372    MOKELUMNE R  MKM      575   \n",
       "9                      SUCCESS DAM   1182.0492         TULE R  SCC      692   \n",
       "10                   PINE FLAT DAM   4702.9572        KINGS R  PNF      970   \n",
       "11        NEW EXCHEQUER-LK MCCLURE   3215.7486       MERCED R  EXC      879   \n",
       "12                  NEW HOGAN LAKE   1125.6570    CALAVERAS R  NHG      554   \n",
       "13      YUBA RIVER NEAR SMARTVILLE   3499.5807         YUBA R  YRS      280   \n",
       "14              SHASTA DAM  (USBR)  24146.0433   SACRAMENTO R  SHA     1067   \n",
       "\n",
       "                                               agency  \\\n",
       "0                                US Geological Survey   \n",
       "1                         Turlock Irrigation District   \n",
       "2                          US Army Corps of Engineers   \n",
       "3                            US Bureau of Reclamation   \n",
       "4                                US Geological Survey   \n",
       "5                            US Bureau of Reclamation   \n",
       "6   CA Dept of Water Resources/O&M Oroville Field ...   \n",
       "7                          US Army Corps of Engineers   \n",
       "8                 East Bay Municipal Utility District   \n",
       "9                          US Army Corps of Engineers   \n",
       "10                         US Army Corps of Engineers   \n",
       "11                         Merced Irrigation District   \n",
       "12                         US Army Corps of Engineers   \n",
       "13                             Pacific Gas & Electric   \n",
       "14                           US Bureau of Reclamation   \n",
       "\n",
       "                                             geometry   id Rainfall (mm)  \\\n",
       "0   POLYGON ((-119.17083 37.73750, -119.17000 37.7...  SJF    542.444552   \n",
       "1   POLYGON ((-119.65583 38.22833, -119.64917 38.2...  TLG    537.434952   \n",
       "2   POLYGON ((-118.40750 36.70083, -118.40500 36.7...  ISB      294.7725   \n",
       "3   POLYGON ((-120.60083 39.32083, -120.59833 39.3...  NAT    394.488417   \n",
       "4   POLYGON ((-120.55417 38.75750, -120.55167 38.7...  MHB    170.043693   \n",
       "5   POLYGON ((-119.92417 38.52000, -119.92167 38.5...  NML    560.171487   \n",
       "6   POLYGON ((-121.22667 40.50083, -121.22333 40.5...  ORO    340.638435   \n",
       "7   POLYGON ((-118.93333 36.72667, -118.93167 36.7...  TRM    363.959396   \n",
       "8   POLYGON ((-120.01583 38.66583, -120.01500 38.6...  MKM    508.605363   \n",
       "9   POLYGON ((-118.68083 36.33417, -118.67833 36.3...  SCC    132.863159   \n",
       "10  POLYGON ((-118.90000 37.20917, -118.89667 37.2...  PNF    588.999741   \n",
       "11  POLYGON ((-119.53750 37.90333, -119.53667 37.9...  EXC    462.435548   \n",
       "12  POLYGON ((-120.58583 38.35667, -120.58333 38.3...  NHG     24.151311   \n",
       "13  POLYGON ((-120.87333 39.77667, -120.87000 39.7...  YRS    475.141757   \n",
       "14  POLYGON ((-120.46667 42.42833, -120.46333 42.4...  SHA    230.418488   \n",
       "\n",
       "   Snowmelt (mm) Baseflow (mm)    K  \n",
       "0      70.142832    206.225574   30  \n",
       "1      91.369415    215.431409    6  \n",
       "2      60.778152     80.320773   12  \n",
       "3      89.736513    252.820745    6  \n",
       "4      73.546216    117.550204  134  \n",
       "5      91.134414    192.056863    5  \n",
       "6        74.0447    221.460364   16  \n",
       "7      63.842251    159.401784   66  \n",
       "8      80.156724    239.486352    2  \n",
       "9      58.318631     65.638448    2  \n",
       "10     67.151824    218.843445   15  \n",
       "11     76.744455     173.50075   41  \n",
       "12     66.854566      39.85352    3  \n",
       "13     94.508007    341.251403   86  \n",
       "14     72.101108    152.018774    3  "
      ]
     },
     "execution_count": 8,
     "metadata": {},
     "output_type": "execute_result"
    }
   ],
   "source": [
    "t1df"
   ]
  },
  {
   "cell_type": "code",
   "execution_count": 9,
   "id": "535b5ec7",
   "metadata": {},
   "outputs": [],
   "source": [
    "t1df.drop(['stid','agency','outlet_id','geometry'], axis =1).to_csv(\"../data/Table1.csv\")"
   ]
  },
  {
   "cell_type": "code",
   "execution_count": null,
   "id": "a794db04",
   "metadata": {},
   "outputs": [],
   "source": []
  },
  {
   "cell_type": "code",
   "execution_count": null,
   "id": "377cd15e",
   "metadata": {},
   "outputs": [],
   "source": []
  }
 ],
 "metadata": {
  "kernelspec": {
   "display_name": "Python 3",
   "language": "python",
   "name": "python3"
  },
  "language_info": {
   "codemirror_mode": {
    "name": "ipython",
    "version": 3
   },
   "file_extension": ".py",
   "mimetype": "text/x-python",
   "name": "python",
   "nbconvert_exporter": "python",
   "pygments_lexer": "ipython3",
   "version": "3.8.10"
  }
 },
 "nbformat": 4,
 "nbformat_minor": 5
}
